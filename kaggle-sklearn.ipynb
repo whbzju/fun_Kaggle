{
 "metadata": {
  "name": "",
  "signature": "sha256:aece265dcb53f013817f186b3fa75893b97b2bba5823777374bdc4b9ee8e0108"
 },
 "nbformat": 3,
 "nbformat_minor": 0,
 "worksheets": [
  {
   "cells": [
    {
     "cell_type": "markdown",
     "metadata": {},
     "source": [
      "# Data Science London + Scikit-learn\n",
      "\u7b2c\u4e00\u6b21\u5728kaggle\u4e0a\u505a\u9898\uff0c\u62ffsklearn\u5165\u624b\u3002\u7b2c\u4e00\u6b21\u76f4\u63a5\u4f7f\u7528svm\uff0c\u6548\u679c\u53ea\u670980%\u3002\u5728\u770b\u4e86\u4e00\u4e9b\u524d\u8f88\u7684\u8ba8\u8bba\u540e\uff0c\u8c03\u6574\u4e86C\uff0csvm\u63d0\u9ad8\u523093%\u3002\n",
      "\u76ee\u524d\u6709\u4ee5\u4e0b\u51e0\u4e2a\u95ee\u9898\u8981\u89e3\u51b3\uff1a\n",
      "1. pca\u5982\u4f55\u9009\u62e9n_compenents,whiten\u7684\u4f5c\u7528\u662f\u4ec0\u4e48\u3002\n",
      "2. \u968f\u673a\u68ee\u6797\u5728\u7279\u5f81\u5de5\u7a0b\u4e2d\u5f97\u4f5c\u7528\n",
      "3. scaling\u4e2d\u5f97standSacle\u6709\u4ec0\u4e48\u7279\u522b\u7684\u3002\n",
      "4. \u5982\u4f55\u7528\u597dcv\n",
      "5. \u6570\u636e\u5206\u6790\u7684\u56fe\u5f62\u5de5\u5177"
     ]
    },
    {
     "cell_type": "code",
     "collapsed": false,
     "input": [
      "import numpy as np\n",
      "import pandas as pd\n",
      "from sklearn import svm"
     ],
     "language": "python",
     "metadata": {},
     "outputs": [],
     "prompt_number": 54
    },
    {
     "cell_type": "code",
     "collapsed": false,
     "input": [
      "X_test = pd.read_csv('test.csv', header=None).as_matrix()\n",
      "y = pd.read_csv('trainLabels.csv', header=None)[0].as_matrix()\n",
      "X = pd.read_csv('train.csv', header=None).as_matrix()"
     ],
     "language": "python",
     "metadata": {},
     "outputs": [],
     "prompt_number": 43
    },
    {
     "cell_type": "code",
     "collapsed": false,
     "input": [
      "%matplotlib inline\n",
      "from sklearn.decomposition import PCA\n",
      "pca = PCA(whiten=True)\n",
      "pca.fit(np.r_[X, X_test])\n",
      "pd.DataFrame(pca.explained_variance_ratio_).plot(kind = 'bar')\n"
     ],
     "language": "python",
     "metadata": {},
     "outputs": [
      {
       "metadata": {},
       "output_type": "pyout",
       "prompt_number": 44,
       "text": [
        "<matplotlib.axes._subplots.AxesSubplot at 0x10a9578d0>"
       ]
      },
      {
       "metadata": {},
       "output_type": "display_data",
       "png": "[encoded data removed]",
       "text": [
        "<matplotlib.figure.Figure at 0x111dcc5d0>"
       ]
      }
     ],
     "prompt_number": 44
    },
    {
     "cell_type": "code",
     "collapsed": false,
     "input": [
      "n_components = np.where(np.cumsum(pca.explained_variance_ratio_) >= 0.85)[0][0]\n",
      "print n_components"
     ],
     "language": "python",
     "metadata": {},
     "outputs": [
      {
       "output_type": "stream",
       "stream": "stdout",
       "text": [
        "15\n"
       ]
      }
     ],
     "prompt_number": 45
    },
    {
     "cell_type": "code",
     "collapsed": false,
     "input": [
      "pca = PCA(n_components=n_components, whiten=True)\n",
      "pca.fit(np.r_[X, X_test])\n",
      "train_pca_X = pca.transform(X)\n",
      "test_pca_X = pca.transform(X_test)"
     ],
     "language": "python",
     "metadata": {},
     "outputs": [],
     "prompt_number": 46
    },
    {
     "cell_type": "code",
     "collapsed": false,
     "input": [
      "from sklearn import cross_validation\n",
      "from sklearn.preprocessing import scale "
     ],
     "language": "python",
     "metadata": {},
     "outputs": [],
     "prompt_number": 38
    },
    {
     "cell_type": "markdown",
     "metadata": {},
     "source": [
      "# \u8bd5\u8bd5\u65b0\u7684svm\u53c2\u6570"
     ]
    },
    {
     "cell_type": "code",
     "collapsed": false,
     "input": [
      "from sklearn.preprocessing import StandardScaler, normalize\n",
      "ss = StandardScaler()\n",
      "train_combined_X = ss.fit_transform(train_pca_X)\n",
      "test_combined_X = ss.transform(test_pca_X)\n",
      "print train_combined_X.shape, test_combined_X.shape"
     ],
     "language": "python",
     "metadata": {},
     "outputs": [
      {
       "output_type": "stream",
       "stream": "stdout",
       "text": [
        "(1000, 15) (9000, 15)\n"
       ]
      }
     ],
     "prompt_number": 48
    },
    {
     "cell_type": "code",
     "collapsed": false,
     "input": [
      "from sklearn.svm import SVC \n",
      "svc = SVC(probability=True)\n",
      "gammas = [1e-4, 3e-4, 1e-3, 3e-3, 1e-2, 3e-2, 1e-1, 3e-1, 1., 3., 10.]\n",
      "gs = grid_search.GridSearchCV(svc, {'gamma': gammas}, scoring = 'accuracy', cv = 10, n_jobs=-1)\n",
      "gs.fit(train_combined_X, y)\n",
      "print gs.best_params_\n",
      "print gs.best_score_ "
     ],
     "language": "python",
     "metadata": {},
     "outputs": [
      {
       "output_type": "stream",
       "stream": "stdout",
       "text": [
        "{'gamma': 0.1}\n",
        "0.934\n"
       ]
      }
     ],
     "prompt_number": 51
    },
    {
     "cell_type": "code",
     "collapsed": false,
     "input": [
      "test_y = gs.predict(test_combined_X)\n",
      "print test_y[:10]"
     ],
     "language": "python",
     "metadata": {},
     "outputs": [
      {
       "output_type": "stream",
       "stream": "stdout",
       "text": [
        "[1 0 1 0 0 0 0 1 0 0]\n"
       ]
      }
     ],
     "prompt_number": 52
    },
    {
     "cell_type": "code",
     "collapsed": false,
     "input": [
      "test_yhat_df = pd.DataFrame(dict(Id = np.arange(1, test_y.shape[0]+1), Solution=test_y))\n",
      "test_yhat_df.to_csv('result.csv', header = True, index=False)"
     ],
     "language": "python",
     "metadata": {},
     "outputs": [],
     "prompt_number": 53
    },
    {
     "cell_type": "code",
     "collapsed": false,
     "input": [],
     "language": "python",
     "metadata": {},
     "outputs": []
    }
   ],
   "metadata": {}
  }
 ]
}