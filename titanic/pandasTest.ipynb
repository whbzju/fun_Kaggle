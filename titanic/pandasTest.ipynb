{
 "metadata": {
  "name": "",
  "signature": "sha256:1e138cd3c08962d85d181ca11f7426967b8dac8f27b83e1394257b039786ba55"
 },
 "nbformat": 3,
 "nbformat_minor": 0,
 "worksheets": [
  {
   "cells": [
    {
     "cell_type": "markdown",
     "metadata": {},
     "source": [
      "# NYC_School\u6570\u636e\uff0cpandas\u5904\u7406\u5b66\u4e60"
     ]
    },
    {
     "cell_type": "code",
     "collapsed": false,
     "input": [
      "import pandas as pd"
     ],
     "language": "python",
     "metadata": {},
     "outputs": [],
     "prompt_number": 1
    },
    {
     "cell_type": "code",
     "collapsed": false,
     "input": [
      "path = '/Users/wujia/Documents/'"
     ],
     "language": "python",
     "metadata": {},
     "outputs": [],
     "prompt_number": 6
    },
    {
     "cell_type": "code",
     "collapsed": false,
     "input": [
      "dsProgReports = pd.read_csv(path + 'NYC_Schools/School_Progress_Reports_-_All_Schools_-_2009-10.csv')\n",
      "dsDistrict = pd.read_csv(path + 'NYC_Schools/School_District_Breakdowns.csv')\n",
      "dsClassSize = pd.read_csv(path + 'NYC_Schools/2009-10_Class_Size_-_School-level_Detail.csv')\n",
      "dsAttendEnroll = pd.read_csv(path + 'NYC_Schools/School_Attendance_and_Enrollment_Statistics_by_District__2010-11_.csv')[:-2] #last two rows are bad\n",
      "dsSATs = pd.read_csv(path + 'NYC_Schools/SAT__College_Board__2010_School_Level_Results.csv') # Dependent"
     ],
     "language": "python",
     "metadata": {},
     "outputs": [],
     "prompt_number": 7
    },
    {
     "cell_type": "code",
     "collapsed": false,
     "input": [
      "dsSATs.info()"
     ],
     "language": "python",
     "metadata": {},
     "outputs": [
      {
       "output_type": "stream",
       "stream": "stdout",
       "text": [
        "<class 'pandas.core.frame.DataFrame'>\n",
        "Int64Index: 460 entries, 0 to 459\n",
        "Data columns (total 6 columns):\n",
        "DBN                      460 non-null object\n",
        "School Name              460 non-null object\n",
        "Number of Test Takers    460 non-null object\n",
        "Critical Reading Mean    460 non-null object\n",
        "Mathematics Mean         460 non-null object\n",
        "Writing Mean             460 non-null object\n",
        "dtypes: object(6)"
       ]
      }
     ],
     "prompt_number": 8
    },
    {
     "cell_type": "code",
     "collapsed": false,
     "input": [],
     "language": "python",
     "metadata": {},
     "outputs": []
    }
   ],
   "metadata": {}
  }
 ]
}