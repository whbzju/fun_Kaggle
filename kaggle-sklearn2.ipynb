{
 "metadata": {
  "name": "",
  "signature": "sha256:927a3ed80e9244c249f9d92859b1d0bc705dc537ac287e49101686fab419a557"
 },
 "nbformat": 3,
 "nbformat_minor": 0,
 "worksheets": [
  {
   "cells": [
    {
     "cell_type": "markdown",
     "metadata": {},
     "source": [
      "# Data Science London + Scikit-learn\n",
      "\u7b2c\u4e00\u6b21\u5728kaggle\u4e0a\u505a\u9898\uff0c\u62ffsklearn\u5165\u624b\u3002\u7b2c\u4e00\u6b21\u76f4\u63a5\u4f7f\u7528svm\uff0c\u6548\u679c\u53ea\u670980%\u3002\u5728\u770b\u4e86\u4e00\u4e9b\u524d\u8f88\u7684\u8ba8\u8bba\u540e\uff0c\u8c03\u6574\u4e86C\uff0csvm\u63d0\u9ad8\u523093%\u3002\n",
      "\u76ee\u524d\u6709\u4ee5\u4e0b\u51e0\u4e2a\u95ee\u9898\u8981\u89e3\u51b3\uff1a\n",
      "1. pca\u5982\u4f55\u9009\u62e9n_compenents,whiten\u7684\u4f5c\u7528\u662f\u4ec0\u4e48\u3002\n",
      "2. \u968f\u673a\u68ee\u6797\u5728\u7279\u5f81\u5de5\u7a0b\u4e2d\u5f97\u4f5c\u7528\n",
      "3. scaling\u4e2d\u5f97standSacle\u6709\u4ec0\u4e48\u7279\u522b\u7684\u3002\n",
      "4. \u5982\u4f55\u7528\u597dcv\n",
      "5. \u6570\u636e\u5206\u6790\u7684\u56fe\u5f62\u5de5\u5177"
     ]
    },
    {
     "cell_type": "code",
     "collapsed": false,
     "input": [
      "import numpy as np\n",
      "import pandas as pd\n",
      "from sklearn import svm"
     ],
     "language": "python",
     "metadata": {},
     "outputs": [],
     "prompt_number": 1
    },
    {
     "cell_type": "code",
     "collapsed": false,
     "input": [
      "X_test = pd.read_csv('test.csv', header=None).as_matrix()\n",
      "y = pd.read_csv('trainLabels.csv', header=None)[0].as_matrix()\n",
      "X = pd.read_csv('train.csv', header=None).as_matrix()"
     ],
     "language": "python",
     "metadata": {},
     "outputs": [],
     "prompt_number": 2
    },
    {
     "cell_type": "code",
     "collapsed": false,
     "input": [
      "%matplotlib inline\n",
      "from sklearn.decomposition import PCA\n",
      "pca = PCA(whiten=True)\n",
      "pca.fit(np.r_[X, X_test])\n",
      "print pca.explained_variance_ratio_\n",
      "pd.DataFrame(pca.explained_variance_ratio_).plot(kind = 'bar')\n"
     ],
     "language": "python",
     "metadata": {},
     "outputs": [
      {
       "output_type": "stream",
       "stream": "stdout",
       "text": [
        "[  2.61338893e-01   2.03953972e-01   7.91104009e-02   4.81480076e-02\n",
        "   4.54167442e-02   4.42563499e-02   4.04285747e-02   3.03524876e-02\n",
        "   2.35202947e-02   1.92164610e-02   1.61483800e-02   1.25565492e-02\n",
        "   7.65669101e-03   7.59267345e-03   7.57067587e-03   7.45196972e-03\n",
        "   7.39437803e-03   7.33602203e-03   7.32154020e-03   7.26446366e-03\n",
        "   7.24687802e-03   7.13785979e-03   7.08554112e-03   7.05759361e-03\n",
        "   7.01144882e-03   6.98357997e-03   6.90865448e-03   6.88494883e-03\n",
        "   6.84557325e-03   6.83367011e-03   6.74339150e-03   6.70112785e-03\n",
        "   6.63533428e-03   6.57374179e-03   6.49188079e-03   6.46379503e-03\n",
        "   6.35945185e-03   5.15400090e-32   1.23862075e-32   1.13262130e-32]\n"
       ]
      },
      {
       "metadata": {},
       "output_type": "pyout",
       "prompt_number": 3,
       "text": [
        "<matplotlib.axes._subplots.AxesSubplot at 0x10399fa90>"
       ]
      },
      {
       "metadata": {},
       "output_type": "display_data",
       "png": "[encoded data removed]",
       "text": [
        "<matplotlib.figure.Figure at 0x10399f5d0>"
       ]
      }
     ],
     "prompt_number": 3
    },
    {
     "cell_type": "code",
     "collapsed": false,
     "input": [
      "n_components = np.where(np.cumsum(pca.explained_variance_ratio_) >= 0.83)[0][0]\n",
      "print n_components"
     ],
     "language": "python",
     "metadata": {},
     "outputs": [
      {
       "output_type": "stream",
       "stream": "stdout",
       "text": [
        "12\n"
       ]
      }
     ],
     "prompt_number": 5
    },
    {
     "cell_type": "code",
     "collapsed": false,
     "input": [
      "pca = PCA(n_components=n_components, whiten=True)\n",
      "pca.fit(np.r_[X, X_test])\n",
      "train_pca_X = pca.transform(X)\n",
      "test_pca_X = pca.transform(X_test)"
     ],
     "language": "python",
     "metadata": {},
     "outputs": [],
     "prompt_number": 6
    },
    {
     "cell_type": "code",
     "collapsed": false,
     "input": [
      "from sklearn import cross_validation\n",
      "from sklearn.preprocessing import scale "
     ],
     "language": "python",
     "metadata": {},
     "outputs": [],
     "prompt_number": 7
    },
    {
     "cell_type": "markdown",
     "metadata": {},
     "source": [
      "# \u8bd5\u8bd5\u65b0\u7684svm\u53c2\u6570"
     ]
    },
    {
     "cell_type": "code",
     "collapsed": false,
     "input": [
      "from sklearn.preprocessing import StandardScaler, normalize\n",
      "ss = StandardScaler()\n",
      "train_combined_X = ss.fit_transform(train_pca_X)\n",
      "test_combined_X = ss.transform(test_pca_X)\n",
      "print train_combined_X.shape, test_combined_X.shape"
     ],
     "language": "python",
     "metadata": {},
     "outputs": [
      {
       "output_type": "stream",
       "stream": "stdout",
       "text": [
        "(1000, 12) (9000, 12)\n"
       ]
      }
     ],
     "prompt_number": 8
    },
    {
     "cell_type": "code",
     "collapsed": false,
     "input": [
      "from sklearn.ensemble import ExtraTreesClassifier\n",
      "trees = ExtraTreesClassifier(n_estimators=100)\n",
      "trees.fit(train_combined_X, y)\n",
      "pd.DataFrame(trees.feature_importances_).plot(kind='bar')\n",
      "selected_features = np.where(trees.feature_importances_ > 0.005)[0]\n",
      "\n",
      "train_selected_X = train_combined_X[:, selected_features]\n",
      "test_selected_X = test_combined_X[:, selected_features]\n",
      "print train_selected_X.shape, test_selected_X.shape\n",
      " "
     ],
     "language": "python",
     "metadata": {},
     "outputs": [
      {
       "output_type": "stream",
       "stream": "stdout",
       "text": [
        "(1000, 12) (9000, 12)\n"
       ]
      },
      {
       "metadata": {},
       "output_type": "display_data",
       "png": "[encoded data removed]",
       "text": [
        "<matplotlib.figure.Figure at 0x10a00f050>"
       ]
      }
     ],
     "prompt_number": 10
    },
    {
     "cell_type": "code",
     "collapsed": false,
     "input": [
      "from sklearn.svm import SVC \n",
      "from sklearn import grid_search\n",
      "svc = SVC(probability=True)\n",
      "gammas = [1e-4, 3e-4, 1e-3, 3e-3, 1e-2, 3e-2, 1e-1, 3e-1, 1., 3., 10.]\n",
      "gs = grid_search.GridSearchCV(svc, {'gamma': gammas}, scoring = 'accuracy', cv = 10, n_jobs=-1)\n",
      "gs.fit(train_selected_X, y)\n",
      "print gs.best_params_\n",
      "print gs.best_score_ "
     ],
     "language": "python",
     "metadata": {},
     "outputs": [
      {
       "output_type": "stream",
       "stream": "stdout",
       "text": [
        "{'gamma': 0.3}\n",
        "0.953\n"
       ]
      }
     ],
     "prompt_number": 12
    },
    {
     "cell_type": "code",
     "collapsed": false,
     "input": [
      "test_y = gs.predict(test_selected_X)\n",
      "print test_y[:10]"
     ],
     "language": "python",
     "metadata": {},
     "outputs": [
      {
       "output_type": "stream",
       "stream": "stdout",
       "text": [
        "[1 0 1 0 0 0 0 1 0 0]\n"
       ]
      }
     ],
     "prompt_number": 13
    },
    {
     "cell_type": "code",
     "collapsed": false,
     "input": [
      "test_yhat_df = pd.DataFrame(dict(Id = np.arange(1, test_y.shape[0]+1), Solution=test_y))\n",
      "test_yhat_df.to_csv('result3.csv', header = True, index=False)"
     ],
     "language": "python",
     "metadata": {},
     "outputs": [],
     "prompt_number": 14
    },
    {
     "cell_type": "code",
     "collapsed": false,
     "input": [
      "from sklearn.svm import SVC \n",
      "svc = SVC(probability=True)\n",
      "gammas = [1e-4, 3e-4, 1e-3, 3e-3, 1e-2, 3e-2, 1e-1, 3e-1, 1., 3., 10.]\n",
      "gs = grid_search.GridSearchCV(svc, {'gamma': gammas}, scoring = 'accuracy', cv = 10, n_jobs=-1)\n",
      "gs.fit(train_combined_X, y)\n",
      "print gs.best_params_\n",
      "print gs.best_score_ "
     ],
     "language": "python",
     "metadata": {},
     "outputs": [
      {
       "output_type": "stream",
       "stream": "stdout",
       "text": [
        "{'gamma': 0.1}\n",
        "0.934\n"
       ]
      }
     ],
     "prompt_number": 51
    },
    {
     "cell_type": "code",
     "collapsed": false,
     "input": [
      "test_y = gs.predict(test_combined_X)\n",
      "print test_y[:10]"
     ],
     "language": "python",
     "metadata": {},
     "outputs": [
      {
       "output_type": "stream",
       "stream": "stdout",
       "text": [
        "[1 0 1 0 0 0 0 1 0 0]\n"
       ]
      }
     ],
     "prompt_number": 52
    },
    {
     "cell_type": "code",
     "collapsed": false,
     "input": [
      "test_yhat_df = pd.DataFrame(dict(Id = np.arange(1, test_y.shape[0]+1), Solution=test_y))\n",
      "test_yhat_df.to_csv('result.csv', header = True, index=False)"
     ],
     "language": "python",
     "metadata": {},
     "outputs": [],
     "prompt_number": 53
    },
    {
     "cell_type": "code",
     "collapsed": false,
     "input": [],
     "language": "python",
     "metadata": {},
     "outputs": []
    }
   ],
   "metadata": {}
  }
 ]
}