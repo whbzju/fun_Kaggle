{
 "metadata": {
  "name": "",
  "signature": "sha256:e2c3407ebc1789191231fe99b1849b71bd8a0fd883e18b770f104af667b45fbd"
 },
 "nbformat": 3,
 "nbformat_minor": 0,
 "worksheets": [
  {
   "cells": [
    {
     "cell_type": "code",
     "collapsed": false,
     "input": [
      "import numpy as np\n",
      "from sklearn import svm\n",
      "\n",
      "x_train = np.loadtxt('train.csv', delimiter=',')\n",
      "y_train = np.loadtxt('trainLabels.csv')"
     ],
     "language": "python",
     "metadata": {},
     "outputs": [],
     "prompt_number": 12
    },
    {
     "cell_type": "code",
     "collapsed": false,
     "input": [
      "x_train"
     ],
     "language": "python",
     "metadata": {},
     "outputs": [
      {
       "metadata": {},
       "output_type": "pyout",
       "prompt_number": 13,
       "text": [
        "array([[ 0.29940251, -1.22662419,  1.49842505, ..., -2.71555881,\n",
        "        -2.68240859,  0.10105047],\n",
        "       [-1.17417585,  0.33215734,  0.94991875, ...,  1.21321926,\n",
        "         1.38293163, -1.81776106],\n",
        "       [ 1.19222208, -0.41437073,  0.06705418, ...,  0.6564375 ,\n",
        "        -0.93247282,  2.9874358 ],\n",
        "       ..., \n",
        "       [ 0.91274769, -1.73403887, -1.04703517, ...,  0.06151283,\n",
        "         0.8955364 ,  0.81368551],\n",
        "       [ 2.43977998, -0.73551082, -0.90242559, ...,  0.22974842,\n",
        "        -2.31108844, -3.4222166 ],\n",
        "       [ 0.2289942 , -0.08545331,  0.87658248, ...,  0.40037229,\n",
        "        -3.43103056,  2.37007995]])"
       ]
      }
     ],
     "prompt_number": 13
    },
    {
     "cell_type": "code",
     "collapsed": false,
     "input": [
      "from sklearn import cross_validation\n",
      "from sklearn.preprocessing import scale "
     ],
     "language": "python",
     "metadata": {},
     "outputs": [],
     "prompt_number": 10
    },
    {
     "cell_type": "code",
     "collapsed": false,
     "input": [
      "x_train = scale(x_train)\n",
      "x_train"
     ],
     "language": "python",
     "metadata": {},
     "outputs": [
      {
       "metadata": {},
       "output_type": "pyout",
       "prompt_number": 14,
       "text": [
        "array([[ 0.27169356, -1.18341196,  1.55577685, ..., -2.73022768,\n",
        "        -0.88557185, -0.24867748],\n",
        "       [-1.19051145,  0.35113884,  0.99528688, ...,  1.20983513,\n",
        "         1.12596669, -1.18723981],\n",
        "       [ 1.15762218, -0.38378471,  0.09313365, ...,  0.65145411,\n",
        "        -0.0197001 ,  1.16316129],\n",
        "       ..., \n",
        "       [ 0.88030482, -1.68293906, -1.04529613, ...,  0.05482063,\n",
        "         0.88480255,  0.09989891],\n",
        "       [ 2.39555118, -0.69993279, -0.89752715, ...,  0.22353944,\n",
        "        -0.70184189, -1.97203889],\n",
        "       [ 0.20182867, -0.0599802 ,  0.92034837, ...,  0.3946534 ,\n",
        "        -1.25599151,  0.86118951]])"
       ]
      }
     ],
     "prompt_number": 14
    },
    {
     "cell_type": "code",
     "collapsed": false,
     "input": [
      "clf = svm.SVC(kernel='linear', C=0.8, gamma=15)\n",
      "clf.fit(x_train, y_train)"
     ],
     "language": "python",
     "metadata": {},
     "outputs": [
      {
       "metadata": {},
       "output_type": "pyout",
       "prompt_number": 22,
       "text": [
        "SVC(C=0.8, cache_size=200, class_weight=None, coef0=0.0, degree=3, gamma=15,\n",
        "  kernel='linear', max_iter=-1, probability=False, random_state=None,\n",
        "  shrinking=True, tol=0.001, verbose=False)"
       ]
      }
     ],
     "prompt_number": 22
    },
    {
     "cell_type": "code",
     "collapsed": false,
     "input": [],
     "language": "python",
     "metadata": {},
     "outputs": [],
     "prompt_number": 22
    },
    {
     "cell_type": "code",
     "collapsed": false,
     "input": [
      "scores = cross_validation.cross_val_score(\n",
      "...    clf, x_train, y_train, cv=5)"
     ],
     "language": "python",
     "metadata": {},
     "outputs": [],
     "prompt_number": 23
    },
    {
     "cell_type": "code",
     "collapsed": false,
     "input": [
      "scores"
     ],
     "language": "python",
     "metadata": {},
     "outputs": [
      {
       "metadata": {},
       "output_type": "pyout",
       "prompt_number": 24,
       "text": [
        "array([ 0.825,  0.85 ,  0.82 ,  0.795,  0.8  ])"
       ]
      }
     ],
     "prompt_number": 24
    },
    {
     "cell_type": "code",
     "collapsed": false,
     "input": [
      "clf.get_params()"
     ],
     "language": "python",
     "metadata": {},
     "outputs": [
      {
       "metadata": {},
       "output_type": "pyout",
       "prompt_number": 25,
       "text": [
        "{'C': 0.8,\n",
        " 'cache_size': 200,\n",
        " 'class_weight': None,\n",
        " 'coef0': 0.0,\n",
        " 'degree': 3,\n",
        " 'gamma': 15,\n",
        " 'kernel': 'linear',\n",
        " 'max_iter': -1,\n",
        " 'probability': False,\n",
        " 'random_state': None,\n",
        " 'shrinking': True,\n",
        " 'tol': 0.001,\n",
        " 'verbose': False}"
       ]
      }
     ],
     "prompt_number": 25
    },
    {
     "cell_type": "code",
     "collapsed": false,
     "input": [
      "from sklearn import grid_search\n",
      "param_grid = [\n",
      "  {'C': [1, 10, 100, 1000], 'kernel': ['linear']},\n",
      "  {'C': [1, 10, 100, 1000], 'gamma': [0.001, 0.0001], 'kernel': ['rbf']},\n",
      " ]\n",
      "svr = svr = svm.SVC()\n",
      "clf = grid_search.GridSearchCV(svr, param_grid)\n",
      "clf.fit(x_train, y_train)"
     ],
     "language": "python",
     "metadata": {},
     "outputs": [
      {
       "metadata": {},
       "output_type": "pyout",
       "prompt_number": 26,
       "text": [
        "GridSearchCV(cv=None,\n",
        "       estimator=SVC(C=1.0, cache_size=200, class_weight=None, coef0=0.0, degree=3, gamma=0.0,\n",
        "  kernel='rbf', max_iter=-1, probability=False, random_state=None,\n",
        "  shrinking=True, tol=0.001, verbose=False),\n",
        "       fit_params={}, iid=True, loss_func=None, n_jobs=1,\n",
        "       param_grid=[{'kernel': ['linear'], 'C': [1, 10, 100, 1000]}, {'kernel': ['rbf'], 'C': [1, 10, 100, 1000], 'gamma': [0.001, 0.0001]}],\n",
        "       pre_dispatch='2*n_jobs', refit=True, score_func=None, scoring=None,\n",
        "       verbose=0)"
       ]
      }
     ],
     "prompt_number": 26
    },
    {
     "cell_type": "code",
     "collapsed": false,
     "input": [
      "print clf.best_score_, clf.best_estimator_, clf.best_params_"
     ],
     "language": "python",
     "metadata": {},
     "outputs": [
      {
       "output_type": "stream",
       "stream": "stdout",
       "text": [
        "0.851 SVC(C=1000, cache_size=200, class_weight=None, coef0=0.0, degree=3,\n",
        "  gamma=0.001, kernel='rbf', max_iter=-1, probability=False,\n",
        "  random_state=None, shrinking=True, tol=0.001, verbose=False) {'kernel': 'rbf', 'C': 1000, 'gamma': 0.001}\n"
       ]
      }
     ],
     "prompt_number": 28
    },
    {
     "cell_type": "code",
     "collapsed": false,
     "input": [
      "len(y_train[y_train==1]), len(y_train[y_train==0]) "
     ],
     "language": "python",
     "metadata": {},
     "outputs": [
      {
       "metadata": {},
       "output_type": "pyout",
       "prompt_number": 31,
       "text": [
        "(510, 490)"
       ]
      }
     ],
     "prompt_number": 31
    },
    {
     "cell_type": "markdown",
     "metadata": {},
     "source": [
      "## \u65b0\u7684scaling\u65b9\u5f0f"
     ]
    },
    {
     "cell_type": "code",
     "collapsed": false,
     "input": [
      "x_train = np.loadtxt('train.csv', delimiter=',')\n",
      "y_train = np.loadtxt('trainLabels.csv')"
     ],
     "language": "python",
     "metadata": {},
     "outputs": [],
     "prompt_number": 95
    },
    {
     "cell_type": "code",
     "collapsed": false,
     "input": [
      "scaler = preprocessing.StandardScaler().fit(X) "
     ],
     "language": "python",
     "metadata": {},
     "outputs": []
    },
    {
     "cell_type": "markdown",
     "metadata": {},
     "source": [
      "## Logistical regression"
     ]
    },
    {
     "cell_type": "code",
     "collapsed": false,
     "input": [
      "from sklearn.linear_model import LogisticRegression\n",
      "logclf = LogisticRegression('l1')"
     ],
     "language": "python",
     "metadata": {},
     "outputs": [],
     "prompt_number": 39
    },
    {
     "cell_type": "code",
     "collapsed": false,
     "input": [
      "scores = cross_validation.cross_val_score(\n",
      "...    logclf, x_train, y_train, cv=5)\n",
      "scores"
     ],
     "language": "python",
     "metadata": {},
     "outputs": [
      {
       "metadata": {},
       "output_type": "pyout",
       "prompt_number": 40,
       "text": [
        "array([ 0.84 ,  0.86 ,  0.82 ,  0.79 ,  0.805])"
       ]
      }
     ],
     "prompt_number": 40
    },
    {
     "cell_type": "code",
     "collapsed": false,
     "input": [
      "kfold = cross_validation.KFold(len(x_train), n_folds=5)\n",
      "[logclf.fit(x_train[train], y_train[train]).score(x_train[test], y_train[test]) for train, test in kfold]"
     ],
     "language": "python",
     "metadata": {},
     "outputs": [
      {
       "metadata": {},
       "output_type": "pyout",
       "prompt_number": 41,
       "text": [
        "[0.83999999999999997,\n",
        " 0.85999999999999999,\n",
        " 0.82499999999999996,\n",
        " 0.77500000000000002,\n",
        " 0.82999999999999996]"
       ]
      }
     ],
     "prompt_number": 41
    },
    {
     "cell_type": "code",
     "collapsed": false,
     "input": [
      "cross_validation.cross_val_score(logclf, x_train, y_train, cv=kfold, n_jobs=-1)\n"
     ],
     "language": "python",
     "metadata": {},
     "outputs": [
      {
       "metadata": {},
       "output_type": "pyout",
       "prompt_number": 42,
       "text": [
        "array([ 0.84 ,  0.86 ,  0.825,  0.775,  0.83 ])"
       ]
      }
     ],
     "prompt_number": 42
    },
    {
     "cell_type": "code",
     "collapsed": false,
     "input": [
      "test = np.loadtxt('test.csv', delimiter=',')"
     ],
     "language": "python",
     "metadata": {},
     "outputs": [],
     "prompt_number": 44
    },
    {
     "cell_type": "code",
     "collapsed": false,
     "input": [
      "test = scale(test)"
     ],
     "language": "python",
     "metadata": {},
     "outputs": [],
     "prompt_number": 45
    },
    {
     "cell_type": "code",
     "collapsed": false,
     "input": [
      "testResult = logclf.predict(test)"
     ],
     "language": "python",
     "metadata": {},
     "outputs": [],
     "prompt_number": 79
    },
    {
     "cell_type": "code",
     "collapsed": false,
     "input": [
      "ids = np.arange(1, 9001)\n"
     ],
     "language": "python",
     "metadata": {},
     "outputs": [],
     "prompt_number": 80
    },
    {
     "cell_type": "code",
     "collapsed": false,
     "input": [
      "result = np.zeros((2, 9000))"
     ],
     "language": "python",
     "metadata": {},
     "outputs": [],
     "prompt_number": 84
    },
    {
     "cell_type": "code",
     "collapsed": false,
     "input": [
      "result[:1, :] = ids\n",
      "result[1:,:] = testResult"
     ],
     "language": "python",
     "metadata": {},
     "outputs": [],
     "prompt_number": 87
    },
    {
     "cell_type": "code",
     "collapsed": false,
     "input": [
      "result"
     ],
     "language": "python",
     "metadata": {},
     "outputs": [
      {
       "metadata": {},
       "output_type": "pyout",
       "prompt_number": 89,
       "text": [
        "array([[  1.00000000e+00,   2.00000000e+00,   3.00000000e+00, ...,\n",
        "          8.99800000e+03,   8.99900000e+03,   9.00000000e+03],\n",
        "       [  1.00000000e+00,   0.00000000e+00,   0.00000000e+00, ...,\n",
        "          1.00000000e+00,   0.00000000e+00,   1.00000000e+00]])"
       ]
      }
     ],
     "prompt_number": 89
    },
    {
     "cell_type": "code",
     "collapsed": false,
     "input": [
      "np.savetxt('result.csv', result.T, fmt='%.0f', delimiter=',')"
     ],
     "language": "python",
     "metadata": {},
     "outputs": [],
     "prompt_number": 94
    },
    {
     "cell_type": "code",
     "collapsed": false,
     "input": [
      "testResult.shape"
     ],
     "language": "python",
     "metadata": {},
     "outputs": [
      {
       "metadata": {},
       "output_type": "pyout",
       "prompt_number": 56,
       "text": [
        "(9000,)"
       ]
      }
     ],
     "prompt_number": 56
    },
    {
     "cell_type": "code",
     "collapsed": false,
     "input": [],
     "language": "python",
     "metadata": {},
     "outputs": []
    }
   ],
   "metadata": {}
  }
 ]
}